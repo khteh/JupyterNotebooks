{
  "cells": [
    {
      "cell_type": "markdown",
      "metadata": {
        "id": "kz7GMf9fruXG"
      },
      "source": [
        "# Video Generation with TGAN\n",
        "*Please note that this is an optional notebook that is meant to introduce more advanced concepts, if you're up for a challenge. So, don't worry if you don't completely follow every step! We provide external resources for extra base knowledge required to grasp some components of the advanced material.*\n",
        "\n",
        "In this notebook, you're going to learn about TGAN, from the paper [Temporal Generative Adversarial Nets with Singular Value Clipping](https://arxiv.org/abs/1611.06624) (Saito, Matsumoto, & Saito, 2017), and its origins in image generation. Here's the quick version:\n",
        "\n",
        "1. **Two Generators** TGAN is the first work within video generation that uses two distinct generators: a temporal generator and an image generator. The temporal generator produces temporal latent vectors $\\vec{z}_t$s which were transformed by the image generator $G_i$. Works after adopt similar approaches.\n",
        "\n",
        "\n",
        "2. **Created an Inception Score Benchmark** At the time, the most common quantitative comparison method was the Inception Score (IS). For a GAN trained on ImageNet, to calculate the IS one needs a pretrained Inception model. For videos, there was no comparable model to Inception, hence the authors proposed the usage of a C3D model trained on the UCF101 dataset. Using this pre-trained model they established a common method for calculating IS for video generation.\n",
        "\n",
        "\n",
        "3. **Singular Value Clipping (SVC)** To enforce a 1-Lipschitz constraint on the discriminator, the authors propose clipping the singular values on the convolutional and linear layers. After every 5 epochs they perform [Singular Value Decomposition](https://en.wikipedia.org/wiki/Singular_value_decomposition) on the weight matrices and enforce the following algorithm: <br /> $\\begin{gather}U \\Sigma V^* = W \\\\ \\Sigma_{ii} := \\min(\\Sigma_{ii}, 1) \\\\ W := U \\Sigma V^* \\end{gather}$ <br /> In their experiments they showed TGAN trained with SVC outperforms the normal GAN setup."
      ]
    },
    {
      "cell_type": "markdown",
      "metadata": {
        "id": "It0ghquIj6PC"
      },
      "source": [
        "For this notebook, we will be focusing on the two generators. But first, some useful imports and commands:"
      ]
    },
    {
      "cell_type": "code",
      "execution_count": 1,
      "metadata": {
        "id": "9XUxp4-NHoTm"
      },
      "outputs": [
        {
          "name": "stdout",
          "output_type": "stream",
          "text": [
            "Installing Library to Display gifs:\n",
            "Downloading pre-trained weights\n",
            "Downloading...\n",
            "From (original): https://drive.google.com/uc?id=1OFkRJqfq6RXVAN9ea7P2jveDTka5rQ3I\n",
            "From (redirected): https://drive.google.com/uc?id=1OFkRJqfq6RXVAN9ea7P2jveDTka5rQ3I&confirm=t&uuid=4a23f67e-98e3-4509-b63c-eeb6be06eadf\n",
            "To: /usr/src/JupyterNotebooks/Coursera/GAN/state_normal81000.ckpt\n",
            "100%|████████████████████████████████████████| 124M/124M [01:25<00:00, 1.44MB/s]\n"
          ]
        }
      ],
      "source": [
        "!echo Installing Library to Display gifs:\n",
        "#!pipenv install moviepy\n",
        "!echo Downloading pre-trained weights\n",
        "!gdown https://drive.google.com/uc?id=1OFkRJqfq6RXVAN9ea7P2jveDTka5rQ3I"
      ]
    },
    {
      "cell_type": "code",
      "execution_count": 3,
      "metadata": {
        "id": "noqTdYGwj8PI"
      },
      "outputs": [
        {
          "ename": "ModuleNotFoundError",
          "evalue": "No module named 'moviepy.editor'",
          "output_type": "error",
          "traceback": [
            "\u001b[31m---------------------------------------------------------------------------\u001b[39m",
            "\u001b[31mModuleNotFoundError\u001b[39m                       Traceback (most recent call last)",
            "\u001b[36mCell\u001b[39m\u001b[36m \u001b[39m\u001b[32mIn[3]\u001b[39m\u001b[32m, line 5\u001b[39m\n\u001b[32m      3\u001b[39m \u001b[38;5;28;01mimport\u001b[39;00m\u001b[38;5;250m \u001b[39m\u001b[34;01mnumpy\u001b[39;00m\u001b[38;5;250m \u001b[39m\u001b[38;5;28;01mas\u001b[39;00m\u001b[38;5;250m \u001b[39m\u001b[34;01mnp\u001b[39;00m\n\u001b[32m      4\u001b[39m \u001b[38;5;66;03m#from moviepy import editor\u001b[39;00m\n\u001b[32m----> \u001b[39m\u001b[32m5\u001b[39m \u001b[38;5;28;01mfrom\u001b[39;00m\u001b[38;5;250m \u001b[39m\u001b[34;01mmoviepy\u001b[39;00m\u001b[34;01m.\u001b[39;00m\u001b[34;01meditor\u001b[39;00m\u001b[38;5;250m \u001b[39m\u001b[38;5;28;01mimport\u001b[39;00m ImageSequenceClip\n\u001b[32m      6\u001b[39m \u001b[38;5;28;01mfrom\u001b[39;00m\u001b[38;5;250m \u001b[39m\u001b[34;01mIPython\u001b[39;00m\u001b[34;01m.\u001b[39;00m\u001b[34;01mdisplay\u001b[39;00m\u001b[38;5;250m \u001b[39m\u001b[38;5;28;01mimport\u001b[39;00m Image\n\u001b[32m      8\u001b[39m \u001b[38;5;28;01mdef\u001b[39;00m\u001b[38;5;250m \u001b[39m\u001b[34mgenSamples\u001b[39m(g, n=\u001b[32m8\u001b[39m):\n",
            "\u001b[31mModuleNotFoundError\u001b[39m: No module named 'moviepy.editor'"
          ]
        }
      ],
      "source": [
        "import torch, moviepy\n",
        "import torch.nn as nn\n",
        "import numpy as np\n",
        "#from moviepy import editor\n",
        "from moviepy.editor import ImageSequenceClip\n",
        "from IPython.display import Image\n",
        "\n",
        "def genSamples(g, n=8):\n",
        "    '''\n",
        "    Generate an n by n grid of videos, given a generator g\n",
        "    '''\n",
        "    with torch.no_grad():\n",
        "        s = g(torch.rand((n**2, 100), device='cuda')*2-1).cpu().detach().numpy()\n",
        "\n",
        "    out = np.zeros((3, 16, 64*n, 64*n))\n",
        "\n",
        "    for j in range(n):\n",
        "        for k in range(n):\n",
        "            out[:, :, 64*j:64*(j+1), 64*k:64*(k+1)] = s[j*n+k, :, :, :, :]\n",
        "\n",
        "\n",
        "    out = out.transpose((1, 2, 3, 0))\n",
        "    out = (out + 1) / 2 * 255\n",
        "    out = out.astype(int)\n",
        "    clip = ImageSequenceClip(list(out), fps=20)\n",
        "    clip.write_gif('sample.gif', fps=20)"
      ]
    },
    {
      "cell_type": "markdown",
      "metadata": {
        "id": "k7VE8l7dyo0A"
      },
      "source": [
        "## How to Generate Videos\n",
        "The first thing to note about video generation is that we are now generating tensors with an added dimension. While conventional image methods work to generate tensors in $\\mathbb{R}^{C \\times H \\times W}$, we are now generating tensors of size $\\mathbb{R}^{T \\times C \\times H \\times W}$.\n",
        "\n",
        "To solve this problem, TGAN proposed generating temporal dynamics first, then generating images. Gordon and Parde, 2020 have a visual that summarizes the generator's process.\n",
        "\n",
        "![generator](https://imgur.com/vH8cakL.png)\n",
        "\n",
        "A latent vector $\\vec{z}_c$ is sampled from a distribution. This vector is fed into some generic $G_t$ and it transforms the vector into a series of latent temporal vectors. $G_t:\\vec{z}_c \\mapsto \\{\\vec{z}_0, \\vec{z}_1, \\dots, \\vec{z}_t\\}$ From there each temporal vector is joined with $\\vec{z}_c$ and fed into an image generator $G_i$. With all images created, our last step is to concatenate all of the images to form a video. Under this setup we decompose time and the images.\n",
        "\n",
        "Today we will be trying to represent the UCF101 dataset. This dataset is composed of 101 action classes. Below is a sample of real examples:\n",
        "\n",
        "![gif grid](https://imgur.com/9Cp5868.gif)\n",
        "\n",
        "## The Temporal Generator $G_t$\n",
        "Here we will be implementing our temporal generator. It transforms a vector in $\\mathbb{R}^{100}$ to multiple (16 to be exact) vectors in $\\mathbb{R}^{100}$. In TGAN they used a series of transposed 1D convolutions, we will discuss the limitations of this choice later."
      ]
    },
    {
      "cell_type": "code",
      "execution_count": null,
      "metadata": {
        "id": "Iwe8yRfthQSQ"
      },
      "outputs": [],
      "source": [
        "class TemporalGenerator(nn.Module):\n",
        "    def __init__(self):\n",
        "        super().__init__()\n",
        "        # Create a sequential model to turn one vector into 16\n",
        "        self.model = nn.Sequential(\n",
        "            nn.ConvTranspose1d(100, 512, kernel_size=1, stride=1, padding=0),\n",
        "            nn.BatchNorm1d(512),\n",
        "            nn.ReLU(),\n",
        "            nn.ConvTranspose1d(512, 256, kernel_size=4, stride=2, padding=1),\n",
        "            nn.BatchNorm1d(256),\n",
        "            nn.ReLU(),\n",
        "            nn.ConvTranspose1d(256, 128, kernel_size=4, stride=2, padding=1),\n",
        "            nn.BatchNorm1d(128),\n",
        "            nn.ReLU(),\n",
        "            nn.ConvTranspose1d(128, 128, kernel_size=4, stride=2, padding=1),\n",
        "            nn.BatchNorm1d(128),\n",
        "            nn.ReLU(),\n",
        "            nn.ConvTranspose1d(128, 100, kernel_size=4, stride=2, padding=1),\n",
        "            nn.Tanh()\n",
        "        )\n",
        "\n",
        "        # initialize weights according to paper\n",
        "        self.model.apply(self.init_weights)\n",
        "\n",
        "    def init_weights(self, m):\n",
        "        if type(m) == nn.ConvTranspose1d:\n",
        "            nn.init.xavier_uniform_(m.weight, gain=2**0.5)\n",
        "\n",
        "    def forward(self, x):\n",
        "        # reshape x so that it can have convolutions done\n",
        "        x = x.view(-1, 100, 1)\n",
        "        # apply the model and flip the\n",
        "        x = self.model(x).transpose(1, 2)\n",
        "        return x"
      ]
    },
    {
      "cell_type": "markdown",
      "metadata": {
        "id": "uAtedvsisf1j"
      },
      "source": [
        "## Putting It All Together\n",
        "\n",
        "With our $\\vec{z}_c$ generated, and our temporal vectors created, it is time to generate our individual images. The first step is to map the two vectors into appropriate sizes to be fed into a transposed 2D convolutional kernel. This is done by a linear transformation with a nonlinearity. Each newly transformed vector is reshaped to a tensor of $\\mathbb{R}^{256 \\times 4 \\times 4}$. In this shape the two sets of vectors are concatenated across the channel dimension.\n",
        "\n",
        "After the vectors are transformed, reshaped, and concatenated, it's finally time for us to make the images! TGAN ensues with a generic image generator of multiple transposed 2D convolutions. After enough transposed convolutions, batchnorms, and ReLUs, the final two operations are a transposed convolution to 3 color channels and a $\\tanh$ activation. Our last step is to alter the shape so that the tensor has time, color-channel, height, and width dimensions. We now have a video!"
      ]
    },
    {
      "cell_type": "code",
      "execution_count": null,
      "metadata": {
        "id": "C2XBgopFrsne"
      },
      "outputs": [],
      "source": [
        "class VideoGenerator(nn.Module):\n",
        "    def __init__(self):\n",
        "        super().__init__()\n",
        "        # instantiate the temporal generator\n",
        "        self.temp = TemporalGenerator()\n",
        "\n",
        "        # create a transformation for the temporal vectors\n",
        "        self.fast = nn.Sequential(\n",
        "            nn.Linear(100, 256 * 4**2, bias=False),\n",
        "            nn.BatchNorm1d(256 * 4**2),\n",
        "            nn.ReLU()\n",
        "        )\n",
        "\n",
        "        # create a transformation for the content vector\n",
        "        self.slow = nn.Sequential(\n",
        "            nn.Linear(100, 256 * 4**2, bias=False),\n",
        "            nn.BatchNorm1d(256 * 4**2),\n",
        "            nn.ReLU()\n",
        "        )\n",
        "\n",
        "\n",
        "        # define the image generator\n",
        "        self.model = nn.Sequential(\n",
        "            nn.ConvTranspose2d(512, 256, kernel_size=4, stride=2, padding=1, bias=False),\n",
        "            nn.BatchNorm2d(256),\n",
        "            nn.ReLU(),\n",
        "            nn.ConvTranspose2d(256, 128, kernel_size=4, stride=2, padding=1, bias=False),\n",
        "            nn.BatchNorm2d(128),\n",
        "            nn.ReLU(),\n",
        "            nn.ConvTranspose2d(128, 64, kernel_size=4, stride=2, padding=1, bias=False),\n",
        "            nn.BatchNorm2d(64),\n",
        "            nn.ReLU(),\n",
        "            nn.ConvTranspose2d(64, 32, kernel_size=4, stride=2, padding=1, bias=False),\n",
        "            nn.BatchNorm2d(32),\n",
        "            nn.ReLU(),\n",
        "            nn.ConvTranspose2d(32, 3, kernel_size=3, stride=1, padding=1),\n",
        "            nn.Tanh()\n",
        "        )\n",
        "\n",
        "        # initialize weights according to the paper\n",
        "        self.fast.apply(self.init_weights)\n",
        "        self.slow.apply(self.init_weights)\n",
        "        self.model.apply(self.init_weights)\n",
        "\n",
        "    def init_weights(self, m):\n",
        "        if type(m) == nn.ConvTranspose2d or type(m) == nn.Linear:\n",
        "            nn.init.uniform_(m.weight, a=-0.01, b=0.01)\n",
        "\n",
        "    def forward(self, x):\n",
        "        # pass our latent vector through the temporal generator and reshape\n",
        "        z_fast = self.temp(x).contiguous()\n",
        "        z_fast = z_fast.view(-1, 100)\n",
        "\n",
        "        # transform the content and temporal vectors\n",
        "        z_fast = self.fast(z_fast).view(-1, 256, 4, 4)\n",
        "        z_slow = self.slow(x).view(-1, 256, 4, 4).unsqueeze(1)\n",
        "        # after z_slow is transformed and expanded we can duplicate it\n",
        "        z_slow = torch.cat([z_slow]*16, dim=1).view(-1, 256, 4, 4)\n",
        "\n",
        "        # concatenate the temporal and content vectors\n",
        "        z = torch.cat([z_slow, z_fast], dim=1)\n",
        "\n",
        "        # transform into image frames\n",
        "        out = self.model(z)\n",
        "\n",
        "        return out.view(-1, 16, 3, 64, 64).transpose(1, 2)"
      ]
    },
    {
      "cell_type": "markdown",
      "metadata": {
        "id": "mp-JPy4AcNb1"
      },
      "source": [
        "### The Discriminator\n",
        "\n",
        "We're no longer operating on images, so now we need to rethink our discriminator. 2D convolutions won't work due to our time dimension, what should we do? TGAN proposes a discriminator composed of a series of 3D convolutions and singular 2D convolution. From one video it produces a single integer.\n",
        "\n",
        "```python\n",
        "class VideoDiscriminator(nn.Module):\n",
        "    def __init__(self):\n",
        "        super().__init__()\n",
        "        self.model3d = nn.Sequential(\n",
        "            nn.Conv3d(3, 64, kernel_size=4, padding=1, stride=2),\n",
        "            nn.LeakyReLU(0.2),\n",
        "            nn.Conv3d(64, 128, kernel_size=4, padding=1, stride=2),\n",
        "            nn.BatchNorm3d(128),\n",
        "            nn.LeakyReLU(0.2),\n",
        "            nn.Conv3d(128, 256, kernel_size=4, padding=1, stride=2),\n",
        "            nn.BatchNorm3d(256),\n",
        "            nn.LeakyReLU(0.2),\n",
        "            nn.Conv3d(256, 512, kernel_size=4, padding=1, stride=2),\n",
        "            nn.BatchNorm3d(512),\n",
        "            nn.LeakyReLU(0.2)\n",
        "        )\n",
        "\n",
        "        self.conv2d = nn.Conv2d(512, 1, kernel_size=4, stride=1, padding=0)\n",
        "\n",
        "        # initialize weights according to paper\n",
        "        self.model3d.apply(self.init_weights)\n",
        "        self.init_weights(self.conv2d)\n",
        "\n",
        "    def init_weights(self, m):\n",
        "        if type(m) == nn.Conv3d or type(m) == nn.Conv2d:\n",
        "            nn.init.xavier_normal_(m.weight, gain=2**0.5)\n",
        "\n",
        "    def forward(self, x):\n",
        "        h = self.model3d(x)\n",
        "        # turn a tensor of R^NxTxCxHxW into R^NxCxHxW\n",
        "        h = torch.reshape(h, (32, 512, 4, 4))\n",
        "        h = self.conv2d(h)\n",
        "        return h\n",
        "```\n",
        "Once our discriminator performs inference on some samples the generated integers are then used in the WGAN formulation (you'll learn more about this next week!):\n",
        "\n",
        "$$\\operatorname*{argmax}_D \\operatorname*{argmin}_G\\mathbb{E}_{x\\sim \\mathbb{P}_r}[D(x)]-\\mathbb{E}_{z\\sim p(z)}[D(G(z))]$$\n",
        "\n",
        "During training this looks like the following.\n",
        "\n",
        "```python\n",
        "# update discriminator\n",
        "pr = dis(real)\n",
        "fake = gen(torch.rand((batch_size, 100), device='cuda')*2-1)\n",
        "pf = dis(fake)\n",
        "dis_loss = torch.mean(-pr) + torch.mean(pf)\n",
        "dis_loss.backward()\n",
        "disOpt.step()\n",
        "\n",
        "# update generator\n",
        "genOpt.zero_grad()\n",
        "fake = gen(torch.rand((batch_size, 100), device='cuda')*2-1)\n",
        "pf = dis(fake)\n",
        "gen_loss = torch.mean(-pf)\n",
        "gen_loss.backward()\n",
        "genOpt.step()\n",
        "```\n"
      ]
    },
    {
      "cell_type": "markdown",
      "metadata": {
        "id": "qCBElPnEHoTq"
      },
      "source": [
        "This model took 16 hours to train on an RTX-2080ti, so we'll use a pretrained version to explore the results.\n",
        "\n",
        "Note: Make sure to use a GPU runtime!"
      ]
    },
    {
      "cell_type": "code",
      "execution_count": null,
      "metadata": {
        "id": "68W1aD-P0_vP"
      },
      "outputs": [],
      "source": [
        "# instantiate the generator, load the weights, and create a sample\n",
        "gen = VideoGenerator().cuda()\n",
        "gen.load_state_dict(torch.load('state_normal81000.ckpt')['model_state_dict'][0])\n",
        "genSamples(gen)"
      ]
    },
    {
      "cell_type": "code",
      "execution_count": null,
      "metadata": {
        "id": "ZExTM_gfJ88u"
      },
      "outputs": [],
      "source": [
        "# Run this cell to see results!\n",
        "Image(open('sample.gif', 'rb').read())"
      ]
    },
    {
      "cell_type": "markdown",
      "metadata": {
        "id": "nfMvkudy1y9O"
      },
      "source": [
        "## Where Do We Go From Here?\n",
        "Your first thought is most likely that these results are less than spectacular. The subproblem of video generation is not yet anywhere near the success of StyleGAN. Suprisingly, the generated results are from the state-of-the-art model in 64 by 64 pixel video generation. As of right now, the results are unpublished, but the model holds the highest average inception score, 14.74, calculated over 10 runs of 2048 samples, with the next best being 13.62. In the original TGAN paper the model achieved 11.85. The quantitative and qualitative results open a lot of discussion within this problem. What could cause such extreme variation in training results? What is holding back video generation from reaching our qualitative standards?\n",
        "\n",
        "One of the first limitations with this paper is that the temporal generator functions on transposed 1D convolutions. This format doesn't fully follow with how we as humans understand time. Works to follow like MoCoGAN use an LSTM, or in TGANv2 a convolutional LSTM. A pre-registered paper even proposed using neural differential equations for the temporal generator. To see how the field has progressed, here is a brief chronology:\n",
        "\n",
        "1. VGAN, [Generating Videos with Scene Dynamics](https://arxiv.org/abs/1609.02612v3) This is the first work to propose using GANs to generate videos. In it they utilize fractionally strided 3D convolutions and argue for decomposing foreground and background. The background is static while the foreground is changing. The two are combined with a learned mask.\n",
        "2. TGAN, [Temporal Generative Adversarial Nets with Singular Value Clipping](https://arxiv.org/abs/1611.06624v3) TGAN is the first work to propose decomposing temporal and image dynamics. They utilized a transposed 1D convolutions to create a series of temporal vectors and a designated image generator.\n",
        "3. MoCoGAN, [MoCoGAN: Decomposing Motion and Content for Video Generation](https://arxiv.org/abs/1707.04993) Given the image generators frequent struggles with coherent individual frames, the authors proposed adding a second designated image discriminator. Under their setup they have one discriminator for the video alltogether, and one for the individual frames. Within this work it was also the first appearance of an LSTM for a temporal generator.\n",
        "4. TGANv2, [Train Sparsely, Generate Densely: Memory-efficient Unsupervised Training of High-resolution Temporal GAN](https://arxiv.org/abs/1811.09245) Building off of their original success with TGAN they expand their work to generate videos of 192 by 192 pixels. They include a convolutional LSTM to generate temporal features, and residuals blocks in their discriminator and generator. In order to increase memory efficiency they also propose subsampling frames of differing resolutions to balance both temporal and per-frame quality.\n",
        "5. [Latent Neural Differential Equations for Video Generation](https://arxiv.org/abs/2011.03864) In this pre-registered work, the authors take a close look at the temporal generator across many different models. They do this to explore the validity of using neural differential equations to govern temporal dynamics. The work aims to investigate using Neural Ordinary Differential Equations as well as Neural Stochastic Differential Equations to evolve each $\\vec{z}_t$.\n",
        "\n",
        "Another development has been the inclusion of Fréchet Inception Distance (FID) scores to benchmark the models. While there is not yet a perfect way to quantify GAN performance, FID has some benefits over IS. The main one is that it compares the synthetic data distribution to the real data distribution. An added bonus is that you can also use the same C3D model by selecting a certain feature layer!\n"
      ]
    },
    {
      "cell_type": "markdown",
      "metadata": {
        "id": "PPd6RG66JuDI"
      },
      "source": [
        "Now, you've seen the primary changes, and you understand the current state-of-the-art in 64 by 64 pixel video generation, TGAN, congratulations!"
      ]
    },
    {
      "cell_type": "markdown",
      "metadata": {
        "id": "870pCuPKmiIF"
      },
      "source": [
        "## Extra Information on SVC\n",
        "\n",
        "SVC worked well in the original TGAN paper, and its improvements have been replicated. Constraining the discriminator to a 1-Lipschitz function stabilizes training. The following graph compares the training time IS scores between TGAN trained with and without SVC.\n",
        "\n",
        "![TGAN Comparison](data:image/png;base64,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)\n",
        "\n",
        "To enforce the 1-Lipschitz constraint on the discriminator, certain alterations must be made to parameters during training time. Within TGAN they give a helpful figure which explains what and how to constrain each parameter.\n",
        "\n",
        "![SVC Table](data:image/png;base64,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)"
      ]
    },
    {
      "cell_type": "markdown",
      "metadata": {
        "id": "8qorunRYoWRv"
      },
      "source": [
        "The following code/pseudocode explains how to do this within native PyTorch.\n",
        "\n",
        "1. Define how to clip the weight matrices\n",
        "\n",
        "```python\n",
        "def singular_value_clip(w):\n",
        "    dim = w.shape\n",
        "    # reshape into matrix if not already MxN\n",
        "    if len(dim) > 2:\n",
        "        w = w.reshape(dim[0], -1)\n",
        "    u, s, v = torch.svd(w, some=True)\n",
        "    s[s > 1] = 1\n",
        "    return (u @ torch.diag(s) @ v.t()).view(dim)\n",
        "```\n",
        "\n",
        "2. After weight updates during training, alter the layers to enforce the constraint.\n",
        "\n",
        "```python\n",
        "for iteration in range(steps):\n",
        "    # update generator and discriminator weights\n",
        "    # enfore 1-Lipschitz\n",
        "    if iteration % 5 == 0:\n",
        "        for module in list(dis.model3d.children()) + [dis.conv2d]:\n",
        "            if type(module) == nn.Conv3d or type(module) == nn.Conv2d:\n",
        "                module.weight.data = singular_value_clip(module.weight)\n",
        "            elif type(module) == nn.BatchNorm3d:\n",
        "                gamma = module.weight.data\n",
        "                std = torch.sqrt(module.running_var)\n",
        "                gamma[gamma > std] = std[gamma > std]\n",
        "                gamma[gamma < 0.01 * std] = 0.01 * std[gamma < 0.01 * std]\n",
        "                module.weight.data = gamma\n",
        "```\n"
      ]
    }
  ],
  "metadata": {
    "accelerator": "GPU",
    "colab": {
      "name": "C1W2: Video Generation (Optional).ipynb",
      "provenance": []
    },
    "kernelspec": {
      "display_name": "JupyterNotebooks-uVG1pv5y",
      "language": "python",
      "name": "python3"
    },
    "language_info": {
      "codemirror_mode": {
        "name": "ipython",
        "version": 3
      },
      "file_extension": ".py",
      "mimetype": "text/x-python",
      "name": "python",
      "nbconvert_exporter": "python",
      "pygments_lexer": "ipython3",
      "version": "3.13.3"
    }
  },
  "nbformat": 4,
  "nbformat_minor": 0
}
