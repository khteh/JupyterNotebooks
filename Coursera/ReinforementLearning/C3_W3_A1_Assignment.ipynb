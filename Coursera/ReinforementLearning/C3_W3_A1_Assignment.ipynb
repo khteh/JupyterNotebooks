{
 "cells": [
  {
   "cell_type": "markdown",
   "metadata": {},
   "source": [
    "# Deep Q-Learning - Lunar Lander\n",
    "\n",
    "In this assignment, you will train an agent to land a lunar lander safely on a landing pad on the surface of the moon.\n",
    "\n",
    "\n",
    "# Outline\n",
    "- [ 1 - Import Packages <img align=\"Right\" src=\"./images/lunar_lander.gif\" width = 60% >](#1)\n",
    "- [ 2 - Hyperparameters](#2)\n",
    "- [ 3 - The Lunar Lander Environment](#3)\n",
    "  - [ 3.1 Action Space](#3.1)\n",
    "  - [ 3.2 Observation Space](#3.2)\n",
    "  - [ 3.3 Rewards](#3.3)\n",
    "  - [ 3.4 Episode Termination](#3.4)\n",
    "- [ 4 - Load the Environment](#4)\n",
    "- [ 5 - Interacting with the Gym Environment](#5)\n",
    "    - [ 5.1 Exploring the Environment's Dynamics](#5.1)\n",
    "- [ 6 - Deep Q-Learning](#6)\n",
    "  - [ 6.1 Target Network](#6.1)\n",
    "    - [ Exercise 1](#ex01)\n",
    "  - [ 6.2 Experience Replay](#6.2)\n",
    "- [ 7 - Deep Q-Learning Algorithm with Experience Replay](#7)\n",
    "  - [ Exercise 2](#ex02)\n",
    "- [ 8 - Update the Network Weights](#8)\n",
    "- [ 9 - Train the Agent](#9)\n",
    "- [ 10 - See the Trained Agent In Action](#10)\n",
    "- [ 11 - Congratulations!](#11)\n",
    "- [ 12 - References](#12)\n"
   ]
  },
  {
   "cell_type": "markdown",
   "metadata": {},
   "source": [
    "_**NOTE:** To prevent errors from the autograder, you are not allowed to edit or delete non-graded cells in this lab. Please also refrain from adding any new cells. \n",
    "**Once you have passed this assignment** and want to experiment with any of the non-graded code, you may follow the instructions at the bottom of this notebook._"
   ]
  },
  {
   "cell_type": "markdown",
   "metadata": {},
   "source": [
    "<a name=\"1\"></a>\n",
    "## 1 - Import Packages\n",
    "\n",
    "We'll make use of the following packages:\n",
    "- `numpy` is a package for scientific computing in python.\n",
    "- `deque` will be our data structure for our memory buffer.\n",
    "- `namedtuple` will be used to store the experience tuples.\n",
    "- The `gym` toolkit is a collection of environments that can be used to test reinforcement learning algorithms. We should note that in this notebook we are using `gym` version `0.24.0`.\n",
    "- `PIL.Image` and `pyvirtualdisplay` are needed to render the Lunar Lander environment.\n",
    "- We will use several modules from the `tensorflow.keras` framework for building deep learning models.\n",
    "- `utils` is a module that contains helper functions for this assignment. You do not need to modify the code in this file.\n",
    "\n",
    "Run the cell below to import all the necessary packages."
   ]
  },
  {
   "cell_type": "code",
   "execution_count": 1,
   "metadata": {
    "deletable": false,
    "editable": false,
    "id": "KYbOPKRtfQOr"
   },
   "outputs": [],
   "source": [
    "import time\n",
    "from collections import deque, namedtuple\n",
    "\n",
    "import gym\n",
    "import numpy as np\n",
    "import PIL.Image\n",
    "import tensorflow as tf\n",
    "import utils\n",
    "\n",
    "from pyvirtualdisplay import Display\n",
    "from tensorflow.keras import Sequential\n",
    "from tensorflow.keras.layers import Dense, Input\n",
    "from tensorflow.keras.losses import MSE\n",
    "from tensorflow.keras.optimizers import Adam"
   ]
  },
  {
   "cell_type": "code",
   "execution_count": 2,
   "metadata": {
    "deletable": false,
    "editable": false
   },
   "outputs": [],
   "source": [
    "# Set up a virtual display to render the Lunar Lander environment.\n",
    "Display(visible=0, size=(840, 480)).start();\n",
    "\n",
    "# Set the random seed for TensorFlow\n",
    "tf.random.set_seed(utils.SEED)"
   ]
  },
  {
   "cell_type": "markdown",
   "metadata": {},
   "source": [
    "<a name=\"2\"></a>\n",
    "## 2 - Hyperparameters\n",
    "\n",
    "Run the cell below to set the hyperparameters."
   ]
  },
  {
   "cell_type": "code",
   "execution_count": 3,
   "metadata": {
    "deletable": false,
    "editable": false
   },
   "outputs": [],
   "source": [
    "MEMORY_SIZE = 100_000     # size of memory buffer\n",
    "GAMMA = 0.995             # discount factor\n",
    "ALPHA = 1e-3              # learning rate  \n",
    "NUM_STEPS_FOR_UPDATE = 4  # perform a learning update every C time steps"
   ]
  },
  {
   "cell_type": "markdown",
   "metadata": {},
   "source": [
    "<a name=\"3\"></a>\n",
    "## 3 - The Lunar Lander Environment\n",
    "\n",
    "In this notebook we will be using [OpenAI's Gym Library](https://www.gymlibrary.dev/). The Gym library provides a wide variety of environments for reinforcement learning. To put it simply, an environment represents a problem or task to be solved. In this notebook, we will try to solve the Lunar Lander environment using reinforcement learning.\n",
    "\n",
    "The goal of the Lunar Lander environment is to land the lunar lander safely on the landing pad on the surface of the moon. The landing pad is designated by two flag poles and its center is at coordinates `(0,0)` but the lander is also allowed to land outside of the landing pad. The lander starts at the top center of the environment with a random initial force applied to its center of mass and has infinite fuel. The environment is considered solved if you get `200` points. \n",
    "\n",
    "<br>\n",
    "<br>\n",
    "<figure>\n",
    "  <img src = \"images/lunar_lander.gif\" width = 40%>\n",
    "      <figcaption style = \"text-align: center; font-style: italic\">Fig 1. Lunar Lander Environment.</figcaption>\n",
    "</figure>\n",
    "\n",
    "\n",
    "\n",
    "<a name=\"3.1\"></a>\n",
    "### 3.1 Action Space\n",
    "\n",
    "The agent has four discrete actions available:\n",
    "\n",
    "* Do nothing.\n",
    "* Fire right engine.\n",
    "* Fire main engine.\n",
    "* Fire left engine.\n",
    "\n",
    "Each action has a corresponding numerical value:\n",
    "\n",
    "```python\n",
    "Do nothing = 0\n",
    "Fire right engine = 1\n",
    "Fire main engine = 2\n",
    "Fire left engine = 3\n",
    "```\n",
    "\n",
    "<a name=\"3.2\"></a>\n",
    "### 3.2 Observation Space\n",
    "\n",
    "The agent's observation space consists of a state vector with 8 variables:\n",
    "\n",
    "* Its $(x,y)$ coordinates. The landing pad is always at coordinates $(0,0)$.\n",
    "* Its linear velocities $(\\dot x,\\dot y)$.\n",
    "* Its angle $\\theta$.\n",
    "* Its angular velocity $\\dot \\theta$.\n",
    "* Two booleans, $l$ and $r$, that represent whether each leg is in contact with the ground or not.\n",
    "\n",
    "<a name=\"3.3\"></a>\n",
    "### 3.3 Rewards\n",
    "\n",
    "After every step, a reward is granted. The total reward of an episode is the sum of the rewards for all the steps within that episode.\n",
    "\n",
    "For each step, the reward:\n",
    "- is increased/decreased the closer/further the lander is to the landing pad.\n",
    "- is increased/decreased the slower/faster the lander is moving.\n",
    "- is decreased the more the lander is tilted (angle not horizontal).\n",
    "- is increased by 10 points for each leg that is in contact with the ground.\n",
    "- is decreased by 0.03 points each frame a side engine is firing.\n",
    "- is decreased by 0.3 points each frame the main engine is firing.\n",
    "\n",
    "The episode receives an additional reward of -100 or +100 points for crashing or landing safely respectively.\n",
    "\n",
    "<a name=\"3.4\"></a>\n",
    "### 3.4 Episode Termination\n",
    "\n",
    "An episode ends (i.e the environment enters a terminal state) if:\n",
    "\n",
    "* The lunar lander crashes (i.e if the body of the lunar lander comes in contact with the surface of the moon).\n",
    "\n",
    "* The absolute value of the lander's $x$-coordinate is greater than 1 (i.e. it goes beyond the left or right border)\n",
    "\n",
    "You can check out the [Open AI Gym documentation](https://www.gymlibrary.dev/environments/box2d/lunar_lander/) for a full description of the environment. "
   ]
  },
  {
   "cell_type": "markdown",
   "metadata": {},
   "source": [
    "<a name=\"4\"></a>\n",
    "## 4 - Load the Environment\n",
    "\n",
    "We start by loading the `LunarLander-v2` environment from the `gym` library by using the `.make()` method. `LunarLander-v2` is the latest version of the Lunar Lander environment and you can read about its version history in the [Open AI Gym documentation](https://www.gymlibrary.dev/environments/box2d/lunar_lander/#version-history)."
   ]
  },
  {
   "cell_type": "code",
   "execution_count": 4,
   "metadata": {
    "deletable": false,
    "editable": false,
    "id": "ILVMYKewfR0n"
   },
   "outputs": [],
   "source": [
    "env = gym.make('LunarLander-v2')"
   ]
  },
  {
   "cell_type": "markdown",
   "metadata": {},
   "source": [
    "Once we load the environment we use the `.reset()` method to reset the environment to the initial state. The lander starts at the top center of the environment and we can render the first frame of the environment by using the `.render()` method."
   ]
  },
  {
   "cell_type": "code",
   "execution_count": 5,
   "metadata": {
    "deletable": false,
    "editable": false
   },
   "outputs": [
    {
     "data": {
      "image/png": "[encoded data removed]",
      "text/plain": [
       "<PIL.Image.Image image mode=RGB size=600x400 at 0x729DD2250D50>"
      ]
     },
     "execution_count": 5,
     "metadata": {},
     "output_type": "execute_result"
    }
   ],
   "source": [
    "env.reset()\n",
    "PIL.Image.fromarray(env.render(mode='rgb_array'))"
   ]
  },
  {
   "cell_type": "markdown",
   "metadata": {},
   "source": [
    "In order to build our neural network later on we need to know the size of the state vector and the number of valid actions. We can get this information from our environment by using the `.observation_space.shape` and `action_space.n` methods, respectively."
   ]
  },
  {
   "cell_type": "code",
   "execution_count": 6,
   "metadata": {
    "deletable": false,
    "editable": false,
    "id": "x3fdqdG4CUu2"
   },
   "outputs": [
    {
     "name": "stdout",
     "output_type": "stream",
     "text": [
      "State Shape: (8,)\n",
      "Number of actions: 4\n"
     ]
    }
   ],
   "source": [
    "state_size = env.observation_space.shape\n",
    "num_actions = env.action_space.n\n",
    "\n",
    "print('State Shape:', state_size)\n",
    "print('Number of actions:', num_actions)"
   ]
  },
  {
   "cell_type": "markdown",
   "metadata": {},
   "source": [
    "<a name=\"5\"></a>\n",
    "## 5 - Interacting with the Gym Environment\n",
    "\n",
    "The Gym library implements the standard “agent-environment loop” formalism:\n",
    "\n",
    "<br>\n",
    "<center>\n",
    "<video src = \"./videos/rl_formalism.m4v\" width=\"840\" height=\"480\" controls autoplay loop poster=\"./images/rl_formalism.png\"> </video>\n",
    "<figcaption style = \"text-align:center; font-style:italic\">Fig 2. Agent-environment Loop Formalism.</figcaption>\n",
    "</center>\n",
    "<br>\n",
    "\n",
    "In the standard “agent-environment loop” formalism, an agent interacts with the environment in discrete time steps $t=0,1,2,...$. At each time step $t$, the agent uses a policy $\\pi$ to select an action $A_t$ based on its observation of the environment's state $S_t$. The agent receives a numerical reward $R_t$ and on the next time step, moves to a new state $S_{t+1}$.\n",
    "\n",
    "<a name=\"5.1\"></a>\n",
    "### 5.1 Exploring the Environment's Dynamics\n",
    "\n",
    "In Open AI's Gym environments, we use the `.step()` method to run a single time step of the environment's dynamics. In the version of `gym` that we are using the `.step()` method accepts an action and returns four values:\n",
    "\n",
    "* `observation` (**object**): an environment-specific object representing your observation of the environment. In the Lunar Lander environment this corresponds to a numpy array containing the positions and velocities of the lander as described in section [3.2 Observation Space](#3.2).\n",
    "\n",
    "\n",
    "* `reward` (**float**): amount of reward returned as a result of taking the given action. In the Lunar Lander environment this corresponds to a float of type `numpy.float64` as described in section [3.3 Rewards](#3.3).\n",
    "\n",
    "\n",
    "* `done` (**boolean**): When done is `True`, it indicates the episode has terminated and it’s time to reset the environment. \n",
    "\n",
    "\n",
    "* `info` (**dictionary**): diagnostic information useful for debugging. We won't be using this variable in this notebook but it is shown here for completeness.\n",
    "\n",
    "To begin an episode, we need to reset the environment to an initial state. We do this by using the `.reset()` method. "
   ]
  },
  {
   "cell_type": "code",
   "execution_count": 7,
   "metadata": {
    "deletable": false,
    "editable": false
   },
   "outputs": [],
   "source": [
    "# Reset the environment and get the initial state.\n",
    "current_state = env.reset()"
   ]
  },
  {
   "cell_type": "markdown",
   "metadata": {},
   "source": [
    "Once the environment is reset, the agent can start taking actions in the environment by using the `.step()` method. Note that the agent can only take one action per time step. \n",
    "\n",
    "In the cell below you can select different actions and see how the returned values change depending on the action taken. Remember that in this environment the agent has four discrete actions available and we specify them in code by using their corresponding numerical value:\n",
    "\n",
    "```python\n",
    "Do nothing = 0\n",
    "Fire right engine = 1\n",
    "Fire main engine = 2\n",
    "Fire left engine = 3\n",
    "```"
   ]
  },
  {
   "cell_type": "code",
   "execution_count": 8,
   "metadata": {
    "deletable": false
   },
   "outputs": [
    {
     "data": {
      "text/html": [
       "<style  type=\"text/css\" >\n",
       "    #T_23b792a4_5718_11f0_9ade_0242ac12001e th {\n",
       "          border: 1px solid grey;\n",
       "          text-align: center;\n",
       "    }    #T_23b792a4_5718_11f0_9ade_0242ac12001e tbody td {\n",
       "          border: 1px solid grey;\n",
       "          text-align: center;\n",
       "    }    #T_23b792a4_5718_11f0_9ade_0242ac12001erow0_col0 {\n",
       "            background-color :  grey;\n",
       "        }    #T_23b792a4_5718_11f0_9ade_0242ac12001erow1_col1 {\n",
       "            background-color :  grey;\n",
       "        }    #T_23b792a4_5718_11f0_9ade_0242ac12001erow1_col2 {\n",
       "            background-color :  grey;\n",
       "        }    #T_23b792a4_5718_11f0_9ade_0242ac12001erow1_col3 {\n",
       "            background-color :  grey;\n",
       "        }    #T_23b792a4_5718_11f0_9ade_0242ac12001erow1_col4 {\n",
       "            background-color :  grey;\n",
       "        }    #T_23b792a4_5718_11f0_9ade_0242ac12001erow1_col5 {\n",
       "            background-color :  grey;\n",
       "        }    #T_23b792a4_5718_11f0_9ade_0242ac12001erow1_col6 {\n",
       "            background-color :  grey;\n",
       "        }    #T_23b792a4_5718_11f0_9ade_0242ac12001erow1_col7 {\n",
       "            background-color :  grey;\n",
       "        }    #T_23b792a4_5718_11f0_9ade_0242ac12001erow1_col8 {\n",
       "            background-color :  grey;\n",
       "        }    #T_23b792a4_5718_11f0_9ade_0242ac12001erow1_col9 {\n",
       "            background-color :  grey;\n",
       "        }    #T_23b792a4_5718_11f0_9ade_0242ac12001erow1_col10 {\n",
       "            background-color :  grey;\n",
       "        }    #T_23b792a4_5718_11f0_9ade_0242ac12001erow1_col11 {\n",
       "            background-color :  grey;\n",
       "        }    #T_23b792a4_5718_11f0_9ade_0242ac12001erow2_col0 {\n",
       "            background-color :  grey;\n",
       "        }    #T_23b792a4_5718_11f0_9ade_0242ac12001erow3_col1 {\n",
       "            background-color :  grey;\n",
       "        }    #T_23b792a4_5718_11f0_9ade_0242ac12001erow3_col2 {\n",
       "            background-color :  grey;\n",
       "        }    #T_23b792a4_5718_11f0_9ade_0242ac12001erow3_col3 {\n",
       "            background-color :  grey;\n",
       "        }    #T_23b792a4_5718_11f0_9ade_0242ac12001erow3_col4 {\n",
       "            background-color :  grey;\n",
       "        }    #T_23b792a4_5718_11f0_9ade_0242ac12001erow3_col5 {\n",
       "            background-color :  grey;\n",
       "        }    #T_23b792a4_5718_11f0_9ade_0242ac12001erow3_col6 {\n",
       "            background-color :  grey;\n",
       "        }    #T_23b792a4_5718_11f0_9ade_0242ac12001erow3_col7 {\n",
       "            background-color :  grey;\n",
       "        }    #T_23b792a4_5718_11f0_9ade_0242ac12001erow3_col8 {\n",
       "            background-color :  grey;\n",
       "        }    #T_23b792a4_5718_11f0_9ade_0242ac12001erow3_col9 {\n",
       "            background-color :  grey;\n",
       "        }    #T_23b792a4_5718_11f0_9ade_0242ac12001erow3_col10 {\n",
       "            background-color :  grey;\n",
       "        }    #T_23b792a4_5718_11f0_9ade_0242ac12001erow3_col11 {\n",
       "            background-color :  grey;\n",
       "        }    #T_23b792a4_5718_11f0_9ade_0242ac12001erow4_col1 {\n",
       "            background-color :  grey;\n",
       "        }    #T_23b792a4_5718_11f0_9ade_0242ac12001erow4_col2 {\n",
       "            background-color :  grey;\n",
       "        }    #T_23b792a4_5718_11f0_9ade_0242ac12001erow4_col3 {\n",
       "            background-color :  grey;\n",
       "        }    #T_23b792a4_5718_11f0_9ade_0242ac12001erow4_col4 {\n",
       "            background-color :  grey;\n",
       "        }    #T_23b792a4_5718_11f0_9ade_0242ac12001erow4_col5 {\n",
       "            background-color :  grey;\n",
       "        }    #T_23b792a4_5718_11f0_9ade_0242ac12001erow4_col6 {\n",
       "            background-color :  grey;\n",
       "        }    #T_23b792a4_5718_11f0_9ade_0242ac12001erow4_col7 {\n",
       "            background-color :  grey;\n",
       "        }    #T_23b792a4_5718_11f0_9ade_0242ac12001erow4_col8 {\n",
       "            background-color :  grey;\n",
       "        }    #T_23b792a4_5718_11f0_9ade_0242ac12001erow4_col9 {\n",
       "            background-color :  grey;\n",
       "        }    #T_23b792a4_5718_11f0_9ade_0242ac12001erow4_col10 {\n",
       "            background-color :  grey;\n",
       "        }    #T_23b792a4_5718_11f0_9ade_0242ac12001erow4_col11 {\n",
       "            background-color :  grey;\n",
       "        }</style><table id=\"T_23b792a4_5718_11f0_9ade_0242ac12001e\" ><thead>    <tr>        <th class=\"blank level0\" ></th>        <th class=\"col_heading level0 col0\" ></th>        <th class=\"col_heading level0 col1\" colspan=8>State Vector</th>        <th class=\"col_heading level0 col9\" colspan=3>Derived from the State Vector (the closer to zero, the better)</th>    </tr>    <tr>        <th class=\"blank level1\" ></th>        <th class=\"col_heading level1 col0\" ></th>        <th class=\"col_heading level1 col1\" colspan=2>Coordinate</th>        <th class=\"col_heading level1 col3\" colspan=2>Velocity</th>        <th class=\"col_heading level1 col5\" colspan=2>Tilting</th>        <th class=\"col_heading level1 col7\" colspan=2>Ground contact</th>        <th class=\"col_heading level1 col9\" >Distance from landing pad</th>        <th class=\"col_heading level1 col10\" >Velocity</th>        <th class=\"col_heading level1 col11\" >Tilting Angle (absolute value)</th>    </tr>    <tr>        <th class=\"blank level2\" ></th>        <th class=\"col_heading level2 col0\" ></th>        <th class=\"col_heading level2 col1\" >X (Horizontal)</th>        <th class=\"col_heading level2 col2\" >Y (Vertical)</th>        <th class=\"col_heading level2 col3\" >X (Horizontal)</th>        <th class=\"col_heading level2 col4\" >Y (Vertical)</th>        <th class=\"col_heading level2 col5\" >Angle</th>        <th class=\"col_heading level2 col6\" >Angular Velocity</th>        <th class=\"col_heading level2 col7\" >Left Leg?</th>        <th class=\"col_heading level2 col8\" >Right Leg?</th>        <th class=\"col_heading level2 col9\" ></th>        <th class=\"col_heading level2 col10\" ></th>        <th class=\"col_heading level2 col11\" ></th>    </tr></thead><tbody>\n",
       "                <tr>\n",
       "                        <th id=\"T_23b792a4_5718_11f0_9ade_0242ac12001elevel0_row0\" class=\"row_heading level0 row0\" >Current State</th>\n",
       "                        <td id=\"T_23b792a4_5718_11f0_9ade_0242ac12001erow0_col0\" class=\"data row0 col0\" ></td>\n",
       "                        <td id=\"T_23b792a4_5718_11f0_9ade_0242ac12001erow0_col1\" class=\"data row0 col1\" >0.001919</td>\n",
       "                        <td id=\"T_23b792a4_5718_11f0_9ade_0242ac12001erow0_col2\" class=\"data row0 col2\" >1.422301</td>\n",
       "                        <td id=\"T_23b792a4_5718_11f0_9ade_0242ac12001erow0_col3\" class=\"data row0 col3\" >0.194400</td>\n",
       "                        <td id=\"T_23b792a4_5718_11f0_9ade_0242ac12001erow0_col4\" class=\"data row0 col4\" >0.505814</td>\n",
       "                        <td id=\"T_23b792a4_5718_11f0_9ade_0242ac12001erow0_col5\" class=\"data row0 col5\" >-0.002217</td>\n",
       "                        <td id=\"T_23b792a4_5718_11f0_9ade_0242ac12001erow0_col6\" class=\"data row0 col6\" >-0.044034</td>\n",
       "                        <td id=\"T_23b792a4_5718_11f0_9ade_0242ac12001erow0_col7\" class=\"data row0 col7\" >False</td>\n",
       "                        <td id=\"T_23b792a4_5718_11f0_9ade_0242ac12001erow0_col8\" class=\"data row0 col8\" >False</td>\n",
       "                        <td id=\"T_23b792a4_5718_11f0_9ade_0242ac12001erow0_col9\" class=\"data row0 col9\" >1.422302</td>\n",
       "                        <td id=\"T_23b792a4_5718_11f0_9ade_0242ac12001erow0_col10\" class=\"data row0 col10\" >0.541885</td>\n",
       "                        <td id=\"T_23b792a4_5718_11f0_9ade_0242ac12001erow0_col11\" class=\"data row0 col11\" >0.002217</td>\n",
       "            </tr>\n",
       "            <tr>\n",
       "                        <th id=\"T_23b792a4_5718_11f0_9ade_0242ac12001elevel0_row1\" class=\"row_heading level0 row1\" >Action</th>\n",
       "                        <td id=\"T_23b792a4_5718_11f0_9ade_0242ac12001erow1_col0\" class=\"data row1 col0\" >Do nothing</td>\n",
       "                        <td id=\"T_23b792a4_5718_11f0_9ade_0242ac12001erow1_col1\" class=\"data row1 col1\" ></td>\n",
       "                        <td id=\"T_23b792a4_5718_11f0_9ade_0242ac12001erow1_col2\" class=\"data row1 col2\" ></td>\n",
       "                        <td id=\"T_23b792a4_5718_11f0_9ade_0242ac12001erow1_col3\" class=\"data row1 col3\" ></td>\n",
       "                        <td id=\"T_23b792a4_5718_11f0_9ade_0242ac12001erow1_col4\" class=\"data row1 col4\" ></td>\n",
       "                        <td id=\"T_23b792a4_5718_11f0_9ade_0242ac12001erow1_col5\" class=\"data row1 col5\" ></td>\n",
       "                        <td id=\"T_23b792a4_5718_11f0_9ade_0242ac12001erow1_col6\" class=\"data row1 col6\" ></td>\n",
       "                        <td id=\"T_23b792a4_5718_11f0_9ade_0242ac12001erow1_col7\" class=\"data row1 col7\" ></td>\n",
       "                        <td id=\"T_23b792a4_5718_11f0_9ade_0242ac12001erow1_col8\" class=\"data row1 col8\" ></td>\n",
       "                        <td id=\"T_23b792a4_5718_11f0_9ade_0242ac12001erow1_col9\" class=\"data row1 col9\" ></td>\n",
       "                        <td id=\"T_23b792a4_5718_11f0_9ade_0242ac12001erow1_col10\" class=\"data row1 col10\" ></td>\n",
       "                        <td id=\"T_23b792a4_5718_11f0_9ade_0242ac12001erow1_col11\" class=\"data row1 col11\" ></td>\n",
       "            </tr>\n",
       "            <tr>\n",
       "                        <th id=\"T_23b792a4_5718_11f0_9ade_0242ac12001elevel0_row2\" class=\"row_heading level0 row2\" >Next State</th>\n",
       "                        <td id=\"T_23b792a4_5718_11f0_9ade_0242ac12001erow2_col0\" class=\"data row2 col0\" ></td>\n",
       "                        <td id=\"T_23b792a4_5718_11f0_9ade_0242ac12001erow2_col1\" class=\"data row2 col1\" >0.003839</td>\n",
       "                        <td id=\"T_23b792a4_5718_11f0_9ade_0242ac12001erow2_col2\" class=\"data row2 col2\" >1.433103</td>\n",
       "                        <td id=\"T_23b792a4_5718_11f0_9ade_0242ac12001erow2_col3\" class=\"data row2 col3\" >0.194137</td>\n",
       "                        <td id=\"T_23b792a4_5718_11f0_9ade_0242ac12001erow2_col4\" class=\"data row2 col4\" >0.480094</td>\n",
       "                        <td id=\"T_23b792a4_5718_11f0_9ade_0242ac12001erow2_col5\" class=\"data row2 col5\" >-0.004393</td>\n",
       "                        <td id=\"T_23b792a4_5718_11f0_9ade_0242ac12001erow2_col6\" class=\"data row2 col6\" >-0.043519</td>\n",
       "                        <td id=\"T_23b792a4_5718_11f0_9ade_0242ac12001erow2_col7\" class=\"data row2 col7\" >False</td>\n",
       "                        <td id=\"T_23b792a4_5718_11f0_9ade_0242ac12001erow2_col8\" class=\"data row2 col8\" >False</td>\n",
       "                        <td id=\"T_23b792a4_5718_11f0_9ade_0242ac12001erow2_col9\" class=\"data row2 col9\" >1.433108</td>\n",
       "                        <td id=\"T_23b792a4_5718_11f0_9ade_0242ac12001erow2_col10\" class=\"data row2 col10\" >0.517860</td>\n",
       "                        <td id=\"T_23b792a4_5718_11f0_9ade_0242ac12001erow2_col11\" class=\"data row2 col11\" >0.004393</td>\n",
       "            </tr>\n",
       "            <tr>\n",
       "                        <th id=\"T_23b792a4_5718_11f0_9ade_0242ac12001elevel0_row3\" class=\"row_heading level0 row3\" >Reward</th>\n",
       "                        <td id=\"T_23b792a4_5718_11f0_9ade_0242ac12001erow3_col0\" class=\"data row3 col0\" >1.104326</td>\n",
       "                        <td id=\"T_23b792a4_5718_11f0_9ade_0242ac12001erow3_col1\" class=\"data row3 col1\" ></td>\n",
       "                        <td id=\"T_23b792a4_5718_11f0_9ade_0242ac12001erow3_col2\" class=\"data row3 col2\" ></td>\n",
       "                        <td id=\"T_23b792a4_5718_11f0_9ade_0242ac12001erow3_col3\" class=\"data row3 col3\" ></td>\n",
       "                        <td id=\"T_23b792a4_5718_11f0_9ade_0242ac12001erow3_col4\" class=\"data row3 col4\" ></td>\n",
       "                        <td id=\"T_23b792a4_5718_11f0_9ade_0242ac12001erow3_col5\" class=\"data row3 col5\" ></td>\n",
       "                        <td id=\"T_23b792a4_5718_11f0_9ade_0242ac12001erow3_col6\" class=\"data row3 col6\" ></td>\n",
       "                        <td id=\"T_23b792a4_5718_11f0_9ade_0242ac12001erow3_col7\" class=\"data row3 col7\" ></td>\n",
       "                        <td id=\"T_23b792a4_5718_11f0_9ade_0242ac12001erow3_col8\" class=\"data row3 col8\" ></td>\n",
       "                        <td id=\"T_23b792a4_5718_11f0_9ade_0242ac12001erow3_col9\" class=\"data row3 col9\" ></td>\n",
       "                        <td id=\"T_23b792a4_5718_11f0_9ade_0242ac12001erow3_col10\" class=\"data row3 col10\" ></td>\n",
       "                        <td id=\"T_23b792a4_5718_11f0_9ade_0242ac12001erow3_col11\" class=\"data row3 col11\" ></td>\n",
       "            </tr>\n",
       "            <tr>\n",
       "                        <th id=\"T_23b792a4_5718_11f0_9ade_0242ac12001elevel0_row4\" class=\"row_heading level0 row4\" >Episode Terminated</th>\n",
       "                        <td id=\"T_23b792a4_5718_11f0_9ade_0242ac12001erow4_col0\" class=\"data row4 col0\" >False</td>\n",
       "                        <td id=\"T_23b792a4_5718_11f0_9ade_0242ac12001erow4_col1\" class=\"data row4 col1\" ></td>\n",
       "                        <td id=\"T_23b792a4_5718_11f0_9ade_0242ac12001erow4_col2\" class=\"data row4 col2\" ></td>\n",
       "                        <td id=\"T_23b792a4_5718_11f0_9ade_0242ac12001erow4_col3\" class=\"data row4 col3\" ></td>\n",
       "                        <td id=\"T_23b792a4_5718_11f0_9ade_0242ac12001erow4_col4\" class=\"data row4 col4\" ></td>\n",
       "                        <td id=\"T_23b792a4_5718_11f0_9ade_0242ac12001erow4_col5\" class=\"data row4 col5\" ></td>\n",
       "                        <td id=\"T_23b792a4_5718_11f0_9ade_0242ac12001erow4_col6\" class=\"data row4 col6\" ></td>\n",
       "                        <td id=\"T_23b792a4_5718_11f0_9ade_0242ac12001erow4_col7\" class=\"data row4 col7\" ></td>\n",
       "                        <td id=\"T_23b792a4_5718_11f0_9ade_0242ac12001erow4_col8\" class=\"data row4 col8\" ></td>\n",
       "                        <td id=\"T_23b792a4_5718_11f0_9ade_0242ac12001erow4_col9\" class=\"data row4 col9\" ></td>\n",
       "                        <td id=\"T_23b792a4_5718_11f0_9ade_0242ac12001erow4_col10\" class=\"data row4 col10\" ></td>\n",
       "                        <td id=\"T_23b792a4_5718_11f0_9ade_0242ac12001erow4_col11\" class=\"data row4 col11\" ></td>\n",
       "            </tr>\n",
       "    </tbody></table>"
      ],
      "text/plain": [
       "<pandas.io.formats.style.Styler at 0x729d381edb10>"
      ]
     },
     "metadata": {},
     "output_type": "display_data"
    }
   ],
   "source": [
    "# Select an action\n",
    "action = 0\n",
    "\n",
    "# Run a single time step of the environment's dynamics with the given action.\n",
    "next_state, reward, done, _ = env.step(action)\n",
    "\n",
    "# Display table with values.\n",
    "utils.display_table(current_state, action, next_state, reward, done)\n",
    "\n",
    "# Replace the `current_state` with the state after the action is taken\n",
    "current_state = next_state"
   ]
  },
  {
   "cell_type": "markdown",
   "metadata": {},
   "source": [
    "In practice, when we train the agent we use a loop to allow the agent to take many consecutive actions during an episode."
   ]
  },
  {
   "cell_type": "markdown",
   "metadata": {},
   "source": [
    "<a name=\"6\"></a>\n",
    "## 6 - Deep Q-Learning\n",
    "\n",
    "In cases where both the state and action space are discrete we can estimate the action-value function iteratively by using the Bellman equation:\n",
    "\n",
    "$$\n",
    "Q_{i+1}(s,a) = R + \\gamma \\max_{a'}Q_i(s',a')\n",
    "$$\n",
    "\n",
    "This iterative method converges to the optimal action-value function $Q^*(s,a)$ as $i\\to\\infty$. This means that the agent just needs to gradually explore the state-action space and keep updating the estimate of $Q(s,a)$ until it converges to the optimal action-value function $Q^*(s,a)$. However, in cases where the state space is continuous it becomes practically impossible to explore the entire state-action space. Consequently, this also makes it practically impossible to gradually estimate $Q(s,a)$ until it converges to $Q^*(s,a)$.\n",
    "\n",
    "In the Deep $Q$-Learning, we solve this problem by using a neural network to estimate the action-value function $Q(s,a)\\approx Q^*(s,a)$. We call this neural network a $Q$-Network and it can be trained by adjusting its weights at each iteration to minimize the mean-squared error in the Bellman equation.\n",
    "\n",
    "Unfortunately, using neural networks in reinforcement learning to estimate action-value functions has proven to be highly unstable. Luckily, there's a couple of techniques that can be employed to avoid instabilities. These techniques consist of using a ***Target Network*** and ***Experience Replay***. We will explore these two techniques in the following sections."
   ]
  },
  {
   "cell_type": "markdown",
   "metadata": {},
   "source": [
    "<a name=\"6.1\"></a>\n",
    "### 6.1 Target Network\n",
    "\n",
    "We can train the $Q$-Network by adjusting it's weights at each iteration to minimize the mean-squared error in the Bellman equation, where the target values are given by:\n",
    "\n",
    "$$\n",
    "y = R + \\gamma \\max_{a'}Q(s',a';w)\n",
    "$$\n",
    "\n",
    "where $w$ are the weights of the $Q$-Network. This means that we are adjusting the weights $w$ at each iteration to minimize the following error:\n",
    "\n",
    "$$\n",
    "\\overbrace{\\underbrace{R + \\gamma \\max_{a'}Q(s',a'; w)}_{\\rm {y~target}} - Q(s,a;w)}^{\\rm {Error}}\n",
    "$$\n",
    "\n",
    "Notice that this forms a problem because the $y$ target is changing on every iteration. Having a constantly moving target can lead to oscillations and instabilities. To avoid this, we can create\n",
    "a separate neural network for generating the $y$ targets. We call this separate neural network the **target $\\hat Q$-Network** and it will have the same architecture as the original $Q$-Network. By using the target $\\hat Q$-Network, the above error becomes:\n",
    "\n",
    "$$\n",
    "\\overbrace{\\underbrace{R + \\gamma \\max_{a'}\\hat{Q}(s',a'; w^-)}_{\\rm {y~target}} - Q(s,a;w)}^{\\rm {Error}}\n",
    "$$\n",
    "\n",
    "where $w^-$ and $w$ are the weights of the target $\\hat Q$-Network and $Q$-Network, respectively.\n",
    "\n",
    "In practice, we will use the following algorithm: every $C$ time steps we will use the $\\hat Q$-Network to generate the $y$ targets and update the weights of the target $\\hat Q$-Network using the weights of the $Q$-Network. We will update the weights $w^-$ of the the target $\\hat Q$-Network using a **soft update**. This means that we will update the weights $w^-$ using the following rule:\n",
    " \n",
    "$$\n",
    "w^-\\leftarrow \\tau w + (1 - \\tau) w^-\n",
    "$$\n",
    "\n",
    "where $\\tau\\ll 1$. By using the soft update, we are ensuring that the target values, $y$, change slowly, which greatly improves the stability of our learning algorithm."
   ]
  },
  {
   "cell_type": "markdown",
   "metadata": {},
   "source": [
    "<a name=\"ex01\"></a>\n",
    "### Exercise 1\n",
    "\n",
    "In this exercise you will create the $Q$ and target $\\hat Q$ networks and set the optimizer. Remember that the Deep $Q$-Network (DQN) is a neural network that approximates the action-value function $Q(s,a)\\approx Q^*(s,a)$. It does this by learning how to map states to $Q$ values.\n",
    "\n",
    "To solve the Lunar Lander environment, we are going to employ a DQN with the following architecture:\n",
    "\n",
    "* An `Input` layer that takes `state_size` as input.\n",
    "\n",
    "* A `Dense` layer with `64` units and a `relu` activation function.\n",
    "\n",
    "* A `Dense` layer with `64` units and a `relu` activation function.\n",
    "\n",
    "* A `Dense` layer with `num_actions` units and a `linear` activation function. This will be the output layer of our network.\n",
    "\n",
    "\n",
    "In the cell below you should create the $Q$-Network and the target $\\hat Q$-Network using the model architecture described above. Remember that both the $Q$-Network and the target $\\hat Q$-Network have the same architecture.\n",
    "\n",
    "Lastly, you should set `Adam` as the optimizer with a learning rate equal to `ALPHA`. Recall that `ALPHA` was defined in the [Hyperparameters](#2) section. We should note that for this exercise you should use the already imported packages:\n",
    "```python\n",
    "from tensorflow.keras.layers import Dense, Input\n",
    "from tensorflow.keras.optimizers import Adam\n",
    "```"
   ]
  },
  {
   "cell_type": "code",
   "execution_count": 13,
   "metadata": {
    "deletable": false
   },
   "outputs": [],
   "source": [
    "# UNQ_C1\n",
    "# GRADED CELL\n",
    "from tensorflow.keras import layers, losses, optimizers, regularizers\n",
    "# Create the Q-Network\n",
    "q_network = Sequential([\n",
    "    ### START CODE HERE ###\n",
    "    Input(shape=(state_size)),\n",
    "    Dense(64, activation = 'relu', kernel_regularizer=regularizers.l2(0.1)),\n",
    "    Dense(64, activation = 'relu', kernel_regularizer=regularizers.l2(0.1)),\n",
    "    Dense(num_actions, activation = 'linear')\n",
    "    ### END CODE HERE ### \n",
    "    ])\n",
    "\n",
    "# Create the target Q^-Network\n",
    "target_q_network = Sequential([\n",
    "    ### START CODE HERE ### \n",
    "    Input(shape=(state_size)),\n",
    "    Dense(64, activation = 'relu', kernel_regularizer=regularizers.l2(0.1)),\n",
    "    Dense(64, activation = 'relu', kernel_regularizer=regularizers.l2(0.1)),\n",
    "    Dense(num_actions, activation = 'linear')\n",
    "    ### END CODE HERE ###\n",
    "    ])\n",
    "\n",
    "### START CODE HERE ### \n",
    "optimizer=tf.keras.optimizers.Adam(learning_rate=ALPHA)\n",
    "### END CODE HERE ###"
   ]
  },
  {
   "cell_type": "code",
   "execution_count": 14,
   "metadata": {
    "deletable": false,
    "editable": false
   },
   "outputs": [
    {
     "name": "stdout",
     "output_type": "stream",
     "text": [
      "\u001b[92mAll tests passed!\n",
      "\u001b[92mAll tests passed!\n",
      "\u001b[92mAll tests passed!\n"
     ]
    }
   ],
   "source": [
    "# UNIT TEST\n",
    "from public_tests import *\n",
    "\n",
    "test_network(q_network)\n",
    "test_network(target_q_network)\n",
    "test_optimizer(optimizer, ALPHA) "
   ]
  },
  {
   "cell_type": "markdown",
   "metadata": {},
   "source": [
    "<details>\n",
    "  <summary><font size=\"3\" color=\"darkgreen\"><b>Click for hints</b></font></summary>\n",
    "    \n",
    "```python\n",
    "# Create the Q-Network\n",
    "q_network = Sequential([\n",
    "    Input(shape=state_size),                      \n",
    "    Dense(units=64, activation='relu'),            \n",
    "    Dense(units=64, activation='relu'),            \n",
    "    Dense(units=num_actions, activation='linear'),\n",
    "    ])\n",
    "\n",
    "# Create the target Q^-Network\n",
    "target_q_network = Sequential([\n",
    "    Input(shape=state_size),                       \n",
    "    Dense(units=64, activation='relu'),            \n",
    "    Dense(units=64, activation='relu'),            \n",
    "    Dense(units=num_actions, activation='linear'), \n",
    "    ])\n",
    "\n",
    "optimizer = Adam(learning_rate=ALPHA)                                  \n",
    "``` "
   ]
  },
  {
   "cell_type": "markdown",
   "metadata": {},
   "source": [
    "<a name=\"6.2\"></a>\n",
    "### 6.2 Experience Replay\n",
    "\n",
    "When an agent interacts with the environment, the states, actions, and rewards the agent experiences are sequential by nature. If the agent tries to learn from these consecutive experiences it can run into problems due to the strong correlations between them. To avoid this, we employ a technique known as **Experience Replay** to generate uncorrelated experiences for training our agent. Experience replay consists of storing the agent's experiences (i.e the states, actions, and rewards the agent receives) in a memory buffer and then sampling a random mini-batch of experiences from the buffer to do the learning. The experience tuples $(S_t, A_t, R_t, S_{t+1})$ will be added to the memory buffer at each time step as the agent interacts with the environment.\n",
    "\n",
    "For convenience, we will store the experiences as named tuples."
   ]
  },
  {
   "cell_type": "code",
   "execution_count": 15,
   "metadata": {
    "deletable": false,
    "editable": false
   },
   "outputs": [],
   "source": [
    "# Store experiences as named tuples\n",
    "experience = namedtuple(\"Experience\", field_names=[\"state\", \"action\", \"reward\", \"next_state\", \"done\"])"
   ]
  },
  {
   "cell_type": "markdown",
   "metadata": {},
   "source": [
    "By using experience replay we avoid problematic correlations, oscillations and instabilities. In addition, experience replay also allows the agent to potentially use the same experience in multiple weight updates, which increases data efficiency."
   ]
  },
  {
   "cell_type": "markdown",
   "metadata": {},
   "source": [
    "<a name=\"7\"></a>\n",
    "## 7 - Deep Q-Learning Algorithm with Experience Replay\n",
    "\n",
    "Now that we know all the techniques that we are going to use, we can put them together to arrive at the Deep Q-Learning Algorithm With Experience Replay.\n",
    "<br>\n",
    "<br>\n",
    "<figure>\n",
    "  <img src = \"images/deep_q_algorithm.png\" width = 90% style = \"border: thin silver solid; padding: 0px\">\n",
    "      <figcaption style = \"text-align: center; font-style: italic\">Fig 3. Deep Q-Learning with Experience Replay.</figcaption>\n",
    "</figure>"
   ]
  },
  {
   "cell_type": "markdown",
   "metadata": {},
   "source": [
    "<a name=\"ex02\"></a>\n",
    "### Exercise 2\n",
    "\n",
    "In this exercise you will implement line ***12*** of the algorithm outlined in *Fig 3* above and you will also compute the loss between the $y$ targets and the $Q(s,a)$ values. In the cell below, complete the `compute_loss` function by setting the $y$ targets equal to:\n",
    "\n",
    "$$\n",
    "\\begin{equation}\n",
    "    y_j =\n",
    "    \\begin{cases}\n",
    "      R_j & \\text{if episode terminates at step  } j+1\\\\\n",
    "      R_j + \\gamma \\max_{a'}\\hat{Q}(s_{j+1},a') & \\text{otherwise}\\\\\n",
    "    \\end{cases}       \n",
    "\\end{equation}\n",
    "$$\n",
    "\n",
    "Here are a couple of things to note:\n",
    "\n",
    "* The `compute_loss` function takes in a mini-batch of experience tuples. This mini-batch of experience tuples is unpacked to extract the `states`, `actions`, `rewards`, `next_states`, and `done_vals`. You should keep in mind that these variables are *TensorFlow Tensors* whose size will depend on the mini-batch size. For example, if the mini-batch size is `64` then both `rewards` and `done_vals` will be TensorFlow Tensors with `64` elements.\n",
    "\n",
    "\n",
    "* Using `if/else` statements to set the $y$ targets will not work when the variables are tensors with many elements. However, notice that you can use the `done_vals` to implement the above in a single line of code. To do this, recall that the `done` variable is a Boolean variable that takes the value `True` when an episode terminates at step $j+1$ and it is `False` otherwise. Taking into account that a Boolean value of `True` has the numerical value of `1` and a Boolean value of `False` has the numerical value of `0`, you can use the factor `(1 - done_vals)` to implement the above in a single line of code. Here's a hint: notice that `(1 - done_vals)` has a value of `0` when `done_vals` is `True` and a value of `1` when `done_vals` is `False`. \n",
    "\n",
    "Lastly, compute the loss by calculating the Mean-Squared Error (`MSE`) between the `y_targets` and the `q_values`. To calculate the mean-squared error you should use the already imported package `MSE`:\n",
    "```python\n",
    "from tensorflow.keras.losses import MSE\n",
    "```"
   ]
  },
  {
   "cell_type": "code",
   "execution_count": 16,
   "metadata": {
    "deletable": false
   },
   "outputs": [],
   "source": [
    "# UNQ_C2\n",
    "# GRADED FUNCTION: calculate_loss\n",
    "\n",
    "def compute_loss(experiences, gamma, q_network, target_q_network):\n",
    "    \"\"\" \n",
    "    Calculates the loss.\n",
    "    \n",
    "    Args:\n",
    "      experiences: (tuple) tuple of [\"state\", \"action\", \"reward\", \"next_state\", \"done\"] namedtuples\n",
    "      gamma: (float) The discount factor.\n",
    "      q_network: (tf.keras.Sequential) Keras model for predicting the q_values\n",
    "      target_q_network: (tf.keras.Sequential) Keras model for predicting the targets\n",
    "          \n",
    "    Returns:\n",
    "      loss: (TensorFlow Tensor(shape=(0,), dtype=int32)) the Mean-Squared Error between\n",
    "            the y targets and the Q(s,a) values.\n",
    "    \"\"\"\n",
    "\n",
    "    # Unpack the mini-batch of experience tuples\n",
    "    states, actions, rewards, next_states, done_vals = experiences\n",
    "    \n",
    "    # Compute max Q^(s,a)\n",
    "    max_qsa = tf.reduce_max(target_q_network(next_states), axis=-1)\n",
    "    \n",
    "    # Set y = R if episode terminates, otherwise set y = R + γ max Q^(s,a).\n",
    "    ### START CODE HERE ### \n",
    "    y_targets = rewards + (1 - done_vals) *  gamma * max_qsa\n",
    "    ### END CODE HERE ###\n",
    "    \n",
    "    # Get the q_values and reshape to match y_targets\n",
    "    q_values = q_network(states)\n",
    "    q_values = tf.gather_nd(q_values, tf.stack([tf.range(q_values.shape[0]),\n",
    "                                                tf.cast(actions, tf.int32)], axis=1))\n",
    "        \n",
    "    # Compute the loss\n",
    "    ### START CODE HERE ### \n",
    "    loss = MSE(y_targets, q_values)\n",
    "    ### END CODE HERE ### \n",
    "    \n",
    "    return loss"
   ]
  },
  {
   "cell_type": "code",
   "execution_count": 17,
   "metadata": {
    "deletable": false,
    "editable": false
   },
   "outputs": [
    {
     "name": "stdout",
     "output_type": "stream",
     "text": [
      "\u001b[92mAll tests passed!\n"
     ]
    }
   ],
   "source": [
    "# UNIT TEST    \n",
    "test_compute_loss(compute_loss)"
   ]
  },
  {
   "cell_type": "markdown",
   "metadata": {},
   "source": [
    "<details>\n",
    "  <summary><font size=\"3\" color=\"darkgreen\"><b>Click for hints</b></font></summary>\n",
    "    \n",
    "```python\n",
    "def compute_loss(experiences, gamma, q_network, target_q_network):\n",
    "    \"\"\" \n",
    "    Calculates the loss.\n",
    "    \n",
    "    Args:\n",
    "      experiences: (tuple) tuple of [\"state\", \"action\", \"reward\", \"next_state\", \"done\"] namedtuples\n",
    "      gamma: (float) The discount factor.\n",
    "      q_network: (tf.keras.Sequential) Keras model for predicting the q_values\n",
    "      target_q_network: (tf.keras.Sequential) Keras model for predicting the targets\n",
    "          \n",
    "    Returns:\n",
    "      loss: (TensorFlow Tensor(shape=(0,), dtype=int32)) the Mean-Squared Error between\n",
    "            the y targets and the Q(s,a) values.\n",
    "    \"\"\"\n",
    "\n",
    "    \n",
    "    # Unpack the mini-batch of experience tuples\n",
    "    states, actions, rewards, next_states, done_vals = experiences\n",
    "    \n",
    "    # Compute max Q^(s,a)\n",
    "    max_qsa = tf.reduce_max(target_q_network(next_states), axis=-1)\n",
    "    \n",
    "    # Set y = R if episode terminates, otherwise set y = R + γ max Q^(s,a).\n",
    "    y_targets = rewards + (gamma * max_qsa * (1 - done_vals))\n",
    "    \n",
    "    # Get the q_values\n",
    "    q_values = q_network(states)\n",
    "    q_values = tf.gather_nd(q_values, tf.stack([tf.range(q_values.shape[0]),\n",
    "                                                tf.cast(actions, tf.int32)], axis=1))\n",
    "    \n",
    "    # Calculate the loss\n",
    "    loss = MSE(y_targets, q_values)\n",
    "    \n",
    "    return loss\n",
    "\n",
    "``` \n",
    "    "
   ]
  },
  {
   "cell_type": "markdown",
   "metadata": {},
   "source": [
    "<a name=\"8\"></a>\n",
    "## 8 - Update the Network Weights\n",
    "\n",
    "We will use the `agent_learn` function below to implement lines ***12 -14*** of the algorithm outlined in [Fig 3](#7). The `agent_learn` function will update the weights of the $Q$ and target $\\hat Q$ networks using a custom training loop. Because we are using a custom training loop we need to retrieve the gradients via a `tf.GradientTape` instance, and then call `optimizer.apply_gradients()` to update the weights of our $Q$-Network. Note that we are also using the `@tf.function` decorator to increase performance. Without this decorator our training will take twice as long. If you would like to know more about how to increase performance with `@tf.function` take a look at the [TensorFlow documentation](https://www.tensorflow.org/guide/function).\n",
    "\n",
    "The last line of this function updates the weights of the target $\\hat Q$-Network using a [soft update](#6.1). If you want to know how this is implemented in code we encourage you to take a look at the `utils.update_target_network` function in the `utils` module."
   ]
  },
  {
   "cell_type": "code",
   "execution_count": 19,
   "metadata": {
    "deletable": false,
    "editable": false
   },
   "outputs": [],
   "source": [
    "@tf.function\n",
    "def agent_learn(experiences, gamma):\n",
    "    \"\"\"\n",
    "    Updates the weights of the Q networks.\n",
    "    \n",
    "    Args:\n",
    "      experiences: (tuple) tuple of [\"state\", \"action\", \"reward\", \"next_state\", \"done\"] namedtuples\n",
    "      gamma: (float) The discount factor.\n",
    "    \n",
    "    \"\"\"\n",
    "    \n",
    "    # Calculate the loss\n",
    "    with tf.GradientTape() as tape:\n",
    "        loss = compute_loss(experiences, gamma, q_network, target_q_network)\n",
    "\n",
    "    # Get the gradients of the loss with respect to the weights.\n",
    "    gradients = tape.gradient(loss, q_network.trainable_variables)\n",
    "    \n",
    "    # Update the weights of the q_network.\n",
    "    optimizer.apply_gradients(zip(gradients, q_network.trainable_variables))\n",
    "\n",
    "    # update the weights of target q_network\n",
    "    utils.update_target_network(q_network, target_q_network)"
   ]
  },
  {
   "cell_type": "markdown",
   "metadata": {},
   "source": [
    "<a name=\"9\"></a>\n",
    "## 9 - Train the Agent\n",
    "\n",
    "We are now ready to train our agent to solve the Lunar Lander environment. In the cell below we will implement the algorithm in [Fig 3](#7) line by line (please note that we have included the same algorithm below for easy reference. This will prevent you from scrolling up and down the notebook):\n",
    "\n",
    "* **Line 1**: We initialize the `memory_buffer` with a capacity of $N =$ `MEMORY_SIZE`. Notice that we are using a `deque` as the data structure for our `memory_buffer`.\n",
    "\n",
    "\n",
    "* **Line 2**: We skip this line since we already initialized the `q_network` in [Exercise 1](#ex01).\n",
    "\n",
    "\n",
    "* **Line 3**: We initialize the `target_q_network` by setting its weights to be equal to those of the `q_network`.\n",
    "\n",
    "\n",
    "* **Line 4**: We start the outer loop. Notice that we have set $M =$ `num_episodes = 2000`. This number is reasonable because the agent should be able to solve the Lunar Lander environment in less than `2000` episodes using this notebook's default parameters.\n",
    "\n",
    "\n",
    "* **Line 5**: We use the `.reset()` method to reset the environment to the initial state and get the initial state.\n",
    "\n",
    "\n",
    "* **Line 6**: We start the inner loop. Notice that we have set $T =$ `max_num_timesteps = 1000`. This means that the episode will automatically terminate if the episode hasn't terminated after `1000` time steps.\n",
    "\n",
    "\n",
    "* **Line 7**: The agent observes the current `state` and chooses an `action` using an $\\epsilon$-greedy policy. Our agent starts out using a value of $\\epsilon =$ `epsilon = 1` which yields an $\\epsilon$-greedy policy that is equivalent to the equiprobable random policy. This means that at the beginning of our training, the agent is just going to take random actions regardless of the observed `state`. As training progresses we will decrease the value of $\\epsilon$ slowly towards a minimum value using a given $\\epsilon$-decay rate. We want this minimum value to be close to zero because a value of $\\epsilon = 0$ will yield an $\\epsilon$-greedy policy that is equivalent to the greedy policy. This means that towards the end of training, the agent will lean towards selecting the `action` that it believes (based on its past experiences) will maximize $Q(s,a)$. We will set the minimum $\\epsilon$ value to be `0.01` and not exactly 0 because we always want to keep a little bit of exploration during training. If you want to know how this is implemented in code we encourage you to take a look at the `utils.get_action` function in the `utils` module.\n",
    "\n",
    "\n",
    "* **Line 8**: We use the `.step()` method to take the given `action` in the environment and get the `reward` and the `next_state`. \n",
    "\n",
    "\n",
    "* **Line 9**: We store the `experience(state, action, reward, next_state, done)` tuple in our `memory_buffer`. Notice that we also store the `done` variable so that we can keep track of when an episode terminates. This allowed us to set the $y$ targets in [Exercise 2](#ex02).\n",
    "\n",
    "\n",
    "* **Line 10**: We check if the conditions are met to perform a learning update. We do this by using our custom `utils.check_update_conditions` function. This function checks if $C =$ `NUM_STEPS_FOR_UPDATE = 4` time steps have occured and if our `memory_buffer` has enough experience tuples to fill a mini-batch. For example, if the mini-batch size is `64`, then our `memory_buffer` should have more than `64` experience tuples in order to pass the latter condition. If the conditions are met, then the `utils.check_update_conditions` function will return a value of `True`, otherwise it will return a value of `False`.\n",
    "\n",
    "\n",
    "* **Lines 11 - 14**: If the `update` variable is `True` then we perform a learning update. The learning update consists of sampling a random mini-batch of experience tuples from our `memory_buffer`, setting the $y$ targets, performing gradient descent, and updating the weights of the networks. We will use the `agent_learn` function we defined in [Section 8](#8) to perform the latter 3.\n",
    "\n",
    "\n",
    "* **Line 15**: At the end of each iteration of the inner loop we set `next_state` as our new `state` so that the loop can start again from this new state. In addition, we check if the episode has reached a terminal state (i.e we check if `done = True`). If a terminal state has been reached, then we break out of the inner loop.\n",
    "\n",
    "\n",
    "* **Line 16**: At the end of each iteration of the outer loop we update the value of $\\epsilon$, and check if the environment has been solved. We consider that the environment has been solved if the agent receives an average of `200` points in the last `100` episodes. If the environment has not been solved we continue the outer loop and start a new episode.\n",
    "\n",
    "Finally, we wanted to note that we have included some extra variables to keep track of the total number of points the agent received in each episode. This will help us determine if the agent has solved the environment and it will also allow us to see how our agent performed during training. We also use the `time` module to measure how long the training takes. \n",
    "\n",
    "<br>\n",
    "<br>\n",
    "<figure>\n",
    "  <img src = \"images/deep_q_algorithm.png\" width = 90% style = \"border: thin silver solid; padding: 0px\">\n",
    "      <figcaption style = \"text-align: center; font-style: italic\">Fig 4. Deep Q-Learning with Experience Replay.</figcaption>\n",
    "</figure>\n",
    "<br>\n",
    "\n",
    "**Note:** With this notebook's default parameters, the following cell takes between 10 to 15 minutes to run. "
   ]
  },
  {
   "cell_type": "code",
   "execution_count": 20,
   "metadata": {
    "deletable": false,
    "editable": false
   },
   "outputs": [
    {
     "name": "stdout",
     "output_type": "stream",
     "text": [
      "Episode 100 | Total point average of the last 100 episodes: -157.74\n",
      "Episode 200 | Total point average of the last 100 episodes: -106.34\n",
      "Episode 300 | Total point average of the last 100 episodes: -73.130\n",
      "Episode 400 | Total point average of the last 100 episodes: -3.540\n",
      "Episode 500 | Total point average of the last 100 episodes: 181.23\n",
      "Episode 600 | Total point average of the last 100 episodes: 168.56\n",
      "Episode 688 | Total point average of the last 100 episodes: 200.74\n",
      "\n",
      "Environment solved in 688 episodes!\n",
      "\n",
      "Total Runtime: 980.49 s (16.34 min)\n"
     ]
    }
   ],
   "source": [
    "start = time.time()\n",
    "\n",
    "num_episodes = 2000\n",
    "max_num_timesteps = 1000\n",
    "\n",
    "total_point_history = []\n",
    "\n",
    "num_p_av = 100    # number of total points to use for averaging\n",
    "epsilon = 1.0     # initial ε value for ε-greedy policy\n",
    "\n",
    "# Create a memory buffer D with capacity N\n",
    "memory_buffer = deque(maxlen=MEMORY_SIZE)\n",
    "\n",
    "# Set the target network weights equal to the Q-Network weights\n",
    "target_q_network.set_weights(q_network.get_weights())\n",
    "\n",
    "for i in range(num_episodes):\n",
    "    \n",
    "    # Reset the environment to the initial state and get the initial state\n",
    "    state = env.reset()\n",
    "    total_points = 0\n",
    "    \n",
    "    for t in range(max_num_timesteps):\n",
    "        \n",
    "        # From the current state S choose an action A using an ε-greedy policy\n",
    "        state_qn = np.expand_dims(state, axis=0)  # state needs to be the right shape for the q_network\n",
    "        q_values = q_network(state_qn)\n",
    "        action = utils.get_action(q_values, epsilon)\n",
    "        \n",
    "        # Take action A and receive reward R and the next state S'\n",
    "        next_state, reward, done, _ = env.step(action)\n",
    "        \n",
    "        # Store experience tuple (S,A,R,S') in the memory buffer.\n",
    "        # We store the done variable as well for convenience.\n",
    "        memory_buffer.append(experience(state, action, reward, next_state, done))\n",
    "        \n",
    "        # Only update the network every NUM_STEPS_FOR_UPDATE time steps.\n",
    "        update = utils.check_update_conditions(t, NUM_STEPS_FOR_UPDATE, memory_buffer)\n",
    "        \n",
    "        if update:\n",
    "            # Sample random mini-batch of experience tuples (S,A,R,S') from D\n",
    "            experiences = utils.get_experiences(memory_buffer)\n",
    "            \n",
    "            # Set the y targets, perform a gradient descent step,\n",
    "            # and update the network weights.\n",
    "            agent_learn(experiences, GAMMA)\n",
    "        \n",
    "        state = next_state.copy()\n",
    "        total_points += reward\n",
    "        \n",
    "        if done:\n",
    "            break\n",
    "            \n",
    "    total_point_history.append(total_points)\n",
    "    av_latest_points = np.mean(total_point_history[-num_p_av:])\n",
    "    \n",
    "    # Update the ε value\n",
    "    epsilon = utils.get_new_eps(epsilon)\n",
    "\n",
    "    print(f\"\\rEpisode {i+1} | Total point average of the last {num_p_av} episodes: {av_latest_points:.2f}\", end=\"\")\n",
    "\n",
    "    if (i+1) % num_p_av == 0:\n",
    "        print(f\"\\rEpisode {i+1} | Total point average of the last {num_p_av} episodes: {av_latest_points:.2f}\")\n",
    "\n",
    "    # We will consider that the environment is solved if we get an\n",
    "    # average of 200 points in the last 100 episodes.\n",
    "    if av_latest_points >= 200.0:\n",
    "        print(f\"\\n\\nEnvironment solved in {i+1} episodes!\")\n",
    "        q_network.save('lunar_lander_model.h5')\n",
    "        break\n",
    "        \n",
    "tot_time = time.time() - start\n",
    "\n",
    "print(f\"\\nTotal Runtime: {tot_time:.2f} s ({(tot_time/60):.2f} min)\")"
   ]
  },
  {
   "cell_type": "markdown",
   "metadata": {},
   "source": [
    "We can plot the total point history along with the moving average to see how our agent improved during training. If you want to know about the different plotting options available in the `utils.plot_history` function we encourage you to take a look at the `utils` module."
   ]
  },
  {
   "cell_type": "code",
   "execution_count": 21,
   "metadata": {
    "deletable": false,
    "editable": false,
    "id": "E_EUXxurfe8m",
    "scrolled": false
   },
   "outputs": [
    {
     "data": {
      "image/png": "[encoded data removed]",
      "text/plain": [
       "<Figure size 720x504 with 1 Axes>"
      ]
     },
     "metadata": {},
     "output_type": "display_data"
    }
   ],
   "source": [
    "# Plot the total point history along with the moving average\n",
    "utils.plot_history(total_point_history)"
   ]
  },
  {
   "cell_type": "markdown",
   "metadata": {
    "id": "c_xwgaX5MnYt"
   },
   "source": [
    "<a name=\"10\"></a>\n",
    "## 10 - See the Trained Agent In Action\n",
    "\n",
    "Now that we have trained our agent, we can see it in action. We will use the `utils.create_video` function to create a video of our agent interacting with the environment using the trained $Q$-Network. The `utils.create_video` function uses the `imageio` library to create the video. This library produces some warnings that can be distracting, so, to suppress these warnings we run the code below."
   ]
  },
  {
   "cell_type": "code",
   "execution_count": 22,
   "metadata": {
    "deletable": false,
    "editable": false
   },
   "outputs": [],
   "source": [
    "# Suppress warnings from imageio\n",
    "import logging\n",
    "logging.getLogger().setLevel(logging.ERROR)"
   ]
  },
  {
   "cell_type": "markdown",
   "metadata": {},
   "source": [
    "In the cell below we create a video of our agent interacting with the Lunar Lander environment using the trained `q_network`. The video is saved to the `videos` folder with the given `filename`. We use the `utils.embed_mp4` function to embed the video in the Jupyter Notebook so that we can see it here directly without having to download it.\n",
    "\n",
    "We should note that since the lunar lander starts with a random initial force applied to its center of mass, every time you run the cell below you will see a different video. If the agent was trained properly, it should be able to land the lunar lander in the landing pad every time, regardless of the initial force applied to its center of mass."
   ]
  },
  {
   "cell_type": "code",
   "execution_count": 23,
   "metadata": {
    "deletable": false,
    "editable": false,
    "id": "3Ttb_zLeJKiG"
   },
   "outputs": [
    {
     "data": {
      "text/html": [
       "\n",
       "    <video width=\"840\" height=\"480\" controls>\n",
       "    <source src=\"data:video/mp4;base64,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\" type=\"video/mp4\">\n",
       "    Your browser does not support the video tag.\n",
       "    </video>"
      ],
      "text/plain": [
       "<IPython.core.display.HTML object>"
      ]
     },
     "execution_count": 23,
     "metadata": {},
     "output_type": "execute_result"
    }
   ],
   "source": [
    "filename = \"./videos/lunar_lander.mp4\"\n",
    "\n",
    "utils.create_video(filename, env, q_network)\n",
    "utils.embed_mp4(filename)"
   ]
  },
  {
   "cell_type": "markdown",
   "metadata": {},
   "source": [
    "<a name=\"11\"></a>\n",
    "## 11 - Congratulations!\n",
    "\n",
    "You have successfully used Deep Q-Learning with Experience Replay to train an agent to land a lunar lander safely on a landing pad on the surface of the moon. Congratulations!"
   ]
  },
  {
   "cell_type": "markdown",
   "metadata": {},
   "source": [
    "<a name=\"12\"></a>\n",
    "## 12 - References\n",
    "\n",
    "If you would like to learn more about Deep Q-Learning, we recommend you check out the following papers.\n",
    "\n",
    "\n",
    "* Mnih, V., Kavukcuoglu, K., Silver, D. et al. Human-level control through deep reinforcement learning. Nature 518, 529–533 (2015).\n",
    "\n",
    "\n",
    "* Lillicrap, T. P., Hunt, J. J., Pritzel, A., et al. Continuous Control with Deep Reinforcement Learning. ICLR (2016).\n",
    "\n",
    "\n",
    "* Mnih, V., Kavukcuoglu, K., Silver, D. et al. Playing Atari with Deep Reinforcement Learning. arXiv e-prints.  arXiv:1312.5602 (2013)."
   ]
  },
  {
   "cell_type": "markdown",
   "metadata": {},
   "source": [
    "<details>\n",
    "  <summary><font size=\"2\" color=\"darkgreen\"><b>Please click here if you want to experiment with any of the non-graded code.</b></font></summary>\n",
    "    <p><i><b>Important Note: Please only do this when you've already passed the assignment to avoid problems with the autograder.</b></i>\n",
    "    <ol>\n",
    "        <li> On the notebook’s menu, click “View” > “Cell Toolbar” > “Edit Metadata”</li>\n",
    "        <li> Hit the “Edit Metadata” button next to the code cell which you want to lock/unlock</li>\n",
    "        <li> Set the attribute value for “editable” to:\n",
    "            <ul>\n",
    "                <li> “true” if you want to unlock it </li>\n",
    "                <li> “false” if you want to lock it </li>\n",
    "            </ul>\n",
    "        </li>\n",
    "        <li> On the notebook’s menu, click “View” > “Cell Toolbar” > “None” </li>\n",
    "    </ol>\n",
    "    <p> Here's a short demo of how to do the steps above: \n",
    "        <br>\n",
    "        <img src=\"https://lh3.google.com/u/0/d/14Xy_Mb17CZVgzVAgq7NCjMVBvSae3xO1\" align=\"center\" alt=\"unlock_cells.gif\">\n",
    "</details>"
   ]
  }
 ],
 "metadata": {
  "accelerator": "GPU",
  "colab": {
   "collapsed_sections": [],
   "name": "TensorFlow - Lunar Lander.ipynb",
   "provenance": []
  },
  "kernelspec": {
   "display_name": "Python 3",
   "language": "python",
   "name": "python3"
  },
  "language_info": {
   "codemirror_mode": {
    "name": "ipython",
    "version": 3
   },
   "file_extension": ".py",
   "mimetype": "text/x-python",
   "name": "python",
   "nbconvert_exporter": "python",
   "pygments_lexer": "ipython3",
   "version": "3.7.6"
  }
 },
 "nbformat": 4,
 "nbformat_minor": 1
}
