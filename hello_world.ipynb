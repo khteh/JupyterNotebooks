{
 "cells": [
  {
   "cell_type": "code",
   "execution_count": 2,
   "metadata": {},
   "outputs": [],
   "source": [
    "# %load imports.py\n",
    "%matplotlib inline\n",
    "import sys\n",
    "#!{sys.executable} -m pipenv install --user numpy pandas matplotlib seaborn\n",
    "import numpy, pandas, matplotlib, seaborn\n",
    "import matplotlib.pyplot as pyplot\n",
    "seaborn.set(style=\"darkgrid\")\n"
   ]
  },
  {
   "cell_type": "code",
   "execution_count": 3,
   "metadata": {},
   "outputs": [],
   "source": [
    "def square(x):\n",
    "    return x * x"
   ]
  },
  {
   "cell_type": "code",
   "execution_count": 4,
   "metadata": {},
   "outputs": [
    {
     "name": "stdout",
     "output_type": "stream",
     "text": [
      "2 squared is 4\n"
     ]
    }
   ],
   "source": [
    "x = numpy.random.randint(1, 10)\n",
    "y = square(x)\n",
    "print(f\"{x} squared is {y}\")"
   ]
  }
 ],
 "metadata": {
  "kernelspec": {
   "display_name": "JupyterNotebooks-uVG1pv5y",
   "language": "python",
   "name": "python3"
  },
  "language_info": {
   "codemirror_mode": {
    "name": "ipython",
    "version": 3
   },
   "file_extension": ".py",
   "mimetype": "text/x-python",
   "name": "python",
   "nbconvert_exporter": "python",
   "pygments_lexer": "ipython3",
   "version": "3.13.3"
  },
  "orig_nbformat": 4
 },
 "nbformat": 4,
 "nbformat_minor": 2
}
